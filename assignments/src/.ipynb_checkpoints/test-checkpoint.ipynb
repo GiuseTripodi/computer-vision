{
 "cells": [
  {
   "cell_type": "code",
   "execution_count": 9,
   "id": "bc2cfe8f",
   "metadata": {
    "scrolled": true
   },
   "outputs": [
    {
     "name": "stdout",
     "output_type": "stream",
     "text": [
      "Xshape, yshape, len, n class:  (7959, 32, 32, 3) (7959,) 7959 2\n",
      "dtype X,y:  uint8 int32\n",
      "sample:  Sample(idx=0, data=array([[[125, 125, 116],\n",
      "        [110, 101,  91],\n",
      "        [102,  90,  83],\n",
      "        ...,\n",
      "        [202, 207, 214],\n",
      "        [200, 205, 212],\n",
      "        [202, 208, 214]],\n",
      "\n",
      "       [[142, 146, 142],\n",
      "        [146, 144, 139],\n",
      "        [176, 172, 170],\n",
      "        ...,\n",
      "        [195, 201, 205],\n",
      "        [198, 205, 209],\n",
      "        [204, 211, 215]],\n",
      "\n",
      "       [[180, 185, 183],\n",
      "        [143, 146, 146],\n",
      "        [156, 157, 157],\n",
      "        ...,\n",
      "        [122, 111, 113],\n",
      "        [139, 128, 131],\n",
      "        [158, 147, 150]],\n",
      "\n",
      "       ...,\n",
      "\n",
      "       [[104,  82,  41],\n",
      "        [101,  80,  39],\n",
      "        [101,  81,  38],\n",
      "        ...,\n",
      "        [126, 103,  67],\n",
      "        [126, 103,  69],\n",
      "        [125, 101,  68]],\n",
      "\n",
      "       [[104,  81,  40],\n",
      "        [105,  84,  41],\n",
      "        [109,  88,  43],\n",
      "        ...,\n",
      "        [138, 113,  78],\n",
      "        [137, 113,  80],\n",
      "        [137, 112,  81]],\n",
      "\n",
      "       [[105,  83,  42],\n",
      "        [108,  87,  45],\n",
      "        [115,  94,  50],\n",
      "        ...,\n",
      "        [143, 117,  82],\n",
      "        [143, 116,  84],\n",
      "        [144, 116,  86]]], dtype=uint8), label=0)\n",
      "y.  [0 0 0 0 1 0 0 0 0 1]\n"
     ]
    },
    {
     "data": {
      "text/plain": [
       "True"
      ]
     },
     "execution_count": 9,
     "metadata": {},
     "output_type": "execute_result"
    }
   ],
   "source": [
    "import cv2\n",
    "import numpy as np\n",
    "from dlvc.datasets.pets import PetsDataset, Subset\n",
    "from matplotlib import pyplot as plt\n",
    "\n",
    "fdir = 'C:\\\\Users\\\\admin\\\\Desktop\\\\10. Semester\\\\Computer Vision\\\\computer-vision\\\\assignments\\\\src\\\\cifar10'\n",
    "pds = PetsDataset(fdir, Subset.TRAINING)\n",
    "print('Xshape, yshape, len, n class: ', pds.X.shape, pds.y.shape, len(pds), pds.num_classes())\n",
    "print('dtype X,y: ', pds.X.dtype, pds.y.dtype)\n",
    "print('sample: ', pds[0])\n",
    "print('y. ', pds.y[0:10])\n",
    "\n",
    "#r,g,b = cv2.split(pds[14][1])\n",
    "#bgr_img = cv2.merge([b,g,r])\n",
    "bgr_img = np.flip(pds[10][1], axis=2)\n",
    "\n",
    "cv2.imwrite('sample.png', bgr_img)\n",
    "# plt.imshow(pds[0][1])\n",
    "# plt.show()"
   ]
  },
  {
   "cell_type": "code",
   "execution_count": null,
   "id": "b6e47886",
   "metadata": {},
   "outputs": [],
   "source": []
  }
 ],
 "metadata": {
  "kernelspec": {
   "display_name": "Python 3 (ipykernel)",
   "language": "python",
   "name": "python3"
  },
  "language_info": {
   "codemirror_mode": {
    "name": "ipython",
    "version": 3
   },
   "file_extension": ".py",
   "mimetype": "text/x-python",
   "name": "python",
   "nbconvert_exporter": "python",
   "pygments_lexer": "ipython3",
   "version": "3.10.2"
  }
 },
 "nbformat": 4,
 "nbformat_minor": 5
}
