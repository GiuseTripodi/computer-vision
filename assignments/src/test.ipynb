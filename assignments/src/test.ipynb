{
 "cells": [
  {
   "cell_type": "code",
   "execution_count": 1,
   "id": "bc2cfe8f",
   "metadata": {
    "scrolled": true
   },
   "outputs": [
    {
     "name": "stdout",
     "output_type": "stream",
     "text": [
      "Xshape, yshape, len, n class:  (7959, 32, 32, 3) (7959,) 7959 2\n",
      "dtype X,y:  uint8 int32\n",
      "sample:  Sample(idx=0, data=array([[[116, 125, 125],\n",
      "        [ 91, 101, 110],\n",
      "        [ 83,  90, 102],\n",
      "        ...,\n",
      "        [214, 207, 202],\n",
      "        [212, 205, 200],\n",
      "        [214, 208, 202]],\n",
      "\n",
      "       [[142, 146, 142],\n",
      "        [139, 144, 146],\n",
      "        [170, 172, 176],\n",
      "        ...,\n",
      "        [205, 201, 195],\n",
      "        [209, 205, 198],\n",
      "        [215, 211, 204]],\n",
      "\n",
      "       [[183, 185, 180],\n",
      "        [146, 146, 143],\n",
      "        [157, 157, 156],\n",
      "        ...,\n",
      "        [113, 111, 122],\n",
      "        [131, 128, 139],\n",
      "        [150, 147, 158]],\n",
      "\n",
      "       ...,\n",
      "\n",
      "       [[ 41,  82, 104],\n",
      "        [ 39,  80, 101],\n",
      "        [ 38,  81, 101],\n",
      "        ...,\n",
      "        [ 67, 103, 126],\n",
      "        [ 69, 103, 126],\n",
      "        [ 68, 101, 125]],\n",
      "\n",
      "       [[ 40,  81, 104],\n",
      "        [ 41,  84, 105],\n",
      "        [ 43,  88, 109],\n",
      "        ...,\n",
      "        [ 78, 113, 138],\n",
      "        [ 80, 113, 137],\n",
      "        [ 81, 112, 137]],\n",
      "\n",
      "       [[ 42,  83, 105],\n",
      "        [ 45,  87, 108],\n",
      "        [ 50,  94, 115],\n",
      "        ...,\n",
      "        [ 82, 117, 143],\n",
      "        [ 84, 116, 143],\n",
      "        [ 86, 116, 144]]], dtype=uint8), label=0)\n",
      "y.  [0 0 0 0 1 0 0 0 0 1]\n"
     ]
    },
    {
     "data": {
      "text/plain": [
       "True"
      ]
     },
     "execution_count": 1,
     "metadata": {},
     "output_type": "execute_result"
    }
   ],
   "source": [
    "import cv2\n",
    "import numpy as np\n",
    "from dlvc.datasets.pets import PetsDataset, Subset\n",
    "\n",
    "fdir = 'C:\\\\Users\\\\admin\\\\Desktop\\\\10. Semester\\\\Computer Vision\\\\computer-vision\\\\assignments\\\\src\\\\cifar10'\n",
    "pds = PetsDataset(fdir, Subset.TRAINING)\n",
    "print('Xshape, yshape, len, n class: ', pds.X.shape, pds.y.shape, len(pds), pds.num_classes())\n",
    "print('dtype X,y: ', pds.X.dtype, pds.y.dtype)\n",
    "print('sample: ', pds[0])\n",
    "print('y. ', pds.y[0:10])\n",
    "\n",
    "cv2.imwrite('sample.png', pds[10][1])"
   ]
  },
  {
   "cell_type": "code",
   "execution_count": null,
   "id": "b6e47886",
   "metadata": {},
   "outputs": [],
   "source": []
  }
 ],
 "metadata": {
  "kernelspec": {
   "display_name": "Python 3 (ipykernel)",
   "language": "python",
   "name": "python3"
  },
  "language_info": {
   "codemirror_mode": {
    "name": "ipython",
    "version": 3
   },
   "file_extension": ".py",
   "mimetype": "text/x-python",
   "name": "python",
   "nbconvert_exporter": "python",
   "pygments_lexer": "ipython3",
   "version": "3.10.2"
  }
 },
 "nbformat": 4,
 "nbformat_minor": 5
}
